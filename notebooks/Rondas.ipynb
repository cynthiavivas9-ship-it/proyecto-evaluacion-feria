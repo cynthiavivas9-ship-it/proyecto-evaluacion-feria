from SRC.Funciones import puntos,procesar_rondas,imprimir_guardar_resultados


# Datos de entrada (5 rondas) 
evaluaciones = [
    # Ronda 1
    {
        'EquipoA': {'innovacion': 2, 'presentacion': 1, 'errores': True},
        'EquipoB': {'innovacion': 1, 'presentacion': 0, 'errores': False},
        'EquipoC': {'innovacion': 1, 'presentacion': 2, 'errores': False},
        'EquipoD': {'innovacion': 0, 'presentacion': 1, 'errores': True},
        'EquipoE': {'innovacion': 1, 'presentacion': 1, 'errores': False},
    },
    # Ronda 2
    {
        'EquipoA': {'innovacion': 0, 'presentacion': 2, 'errores': False},
        'EquipoB': {'innovacion': 2, 'presentacion': 0, 'errores': False},
        'EquipoC': {'innovacion': 1, 'presentacion': 1, 'errores': True},
        'EquipoD': {'innovacion': 2, 'presentacion': 1, 'errores': False},
        'EquipoE': {'innovacion': 0, 'presentacion': 1, 'errores': True},
    },
    # Ronda 3
    {
        'EquipoA': {'innovacion': 3, 'presentacion': 2, 'errores': False},
        'EquipoB': {'innovacion': 1, 'presentacion': 1, 'errores': True},
        'EquipoC': {'innovacion': 2, 'presentacion': 0, 'errores': False},
        'EquipoD': {'innovacion': 1, 'presentacion': 3, 'errores': False},
        'EquipoE': {'innovacion': 2, 'presentacion': 2, 'errores': False},
    },
    # Ronda 4
    {
        'EquipoA': {'innovacion': 1, 'presentacion': 3, 'errores': False},
        'EquipoB': {'innovacion': 2, 'presentacion': 2, 'errores': True},
        'EquipoC': {'innovacion': 3, 'presentacion': 1, 'errores': False},
        'EquipoD': {'innovacion': 0, 'presentacion': 2, 'errores': False},
        'EquipoE': {'innovacion': 2, 'presentacion': 0, 'errores': True},
    },
    # Ronda 5
    {
        'EquipoA': {'innovacion': 2, 'presentacion': 2, 'errores': False},
        'EquipoB': {'innovacion': 1, 'presentacion': 3, 'errores': False},
        'EquipoC': {'innovacion': 0, 'presentacion': 2, 'errores': True},
        'EquipoD': {'innovacion': 3, 'presentacion': 1, 'errores': False},
        'EquipoE': {'innovacion': 2, 'presentacion': 3, 'errores': False},
    }

]


# Ejecutamos
rondas, resultado_final = procesar_rondas(evaluaciones, puntos)
# Imprimir y guardar resultados
imprimir_guardar_resultados(rondas, resultado_final)


#-------------------- GANADORES-------------------------
for nro, datos_tabla, ganadores, max_puntaje in rondas:
    for equipo in  (ganadores):
            print(equipo)





