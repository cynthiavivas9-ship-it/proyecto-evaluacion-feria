from SRC.Funciones import puntos




# Ronda 1
ronda_1 = [

{
'EquipoA': {'innovacion': 2, 'presentacion': 1, 'errores': True},
'EquipoB': {'innovacion': 1, 'presentacion': 0, 'errores': False},
'EquipoC': {'innovacion': 1, 'presentacion': 2, 'errores': True},
'EquipoD': {'innovacion': 0, 'presentacion': 1, 'errores': False},
'EquipoE': {'innovacion': 1, 'presentacion': 1, 'errores': False}
}
]

# Accedemos al diccionario dentro de la lista
equipos = ronda_1[0]


# Calculamos los puntajes y creamos la tabla    
datos_tabla = [] #se crea una lista
for nombre, datos in equipos.items():
    puntaje, innovacion, presentacion, errores = puntos(datos)
datos_tabla.append({
    "Equipo": nombre,
    "Innovacion": innovacion,
    "Presentacion": presentacion,
    "Errores": errores,
    "Puntaje": puntaje
})
# Determinamos el puntaje máximo
max_puntaje = max(p["Puntaje"] for p in datos_tabla)

# Determinamos los ganadores
ganadores = list(map(
    lambda p: p["Equipo"],
    filter(lambda p: p["Puntaje"] == max_puntaje, datos_tabla)
))

print(f"\nEl mejor equipo de la ronda: {ganadores} con ({max_puntaje} puntos)\n")

# Agregamos la columna "Mejor equipo"
for p in datos_tabla:
    p["Mejor equipo"] = 1 if p["Puntaje"] == max_puntaje else 0

# Imprimimos 
print("Equipo   Innovacion  Presentacion  Errores  Puntaje  Mejor")
print("-"*55)
for fila in sorted(datos_tabla, key=lambda x: x["Puntaje"], reverse=True):
    print(f"{fila['Equipo']:<8} {fila['Innovacion']:^10} {fila['Presentacion']:^13} "
          f"{fila['Errores']:^7} {fila['Puntaje']:^8} {fila['Mejor equipo']:^5}")




from SRC.Funciones import puntos
# Ronda 2
ronda_2 = [
{'EquipoA': {'innovacion': 0, 'presentacion': 2, 'errores': False},
 'EquipoB': {'innovacion': 2, 'presentacion': 0, 'errores': True},
 'EquipoC': {'innovacion': 1, 'presentacion': 1, 'errores': False},
 'EquipoD': {'innovacion': 2, 'presentacion': 1, 'errores': True},
 'EquipoE': {'innovacion': 0, 'presentacion': 1, 'errores': False}
 },]

# Accedemos al diccionario dentro de la lista
equipos = ronda_2[0]


# Calculamos los puntajes y creamos la tabla    
datos_tabla = [] #se crea una lista
for nombre, datos in equipos.items():
    puntaje, innovacion, presentacion, errores = puntos(datos)
    datos_tabla.append({
        "Equipo": nombre,
        "Innovacion": innovacion,
        "Presentacion": presentacion,
        "Errores": errores,
        "Puntaje": puntaje
    })



# Determinamos el puntaje máximo
max_puntaje = max(p["Puntaje"] for p in datos_tabla)

# Determinamos los ganadores
ganadores = list(map(
    lambda p: p["Equipo"],
    filter(lambda p: p["Puntaje"] == max_puntaje, datos_tabla)
))

print(f"\nEl mejor equipo de la ronda: {ganadores} con ({max_puntaje} puntos)\n")

# Agregamos la columna "Mejor equipo"
for p in datos_tabla:
    p["Mejor equipo"] = 1 if p["Puntaje"] == max_puntaje else 0

# Imprimimos 
print("Equipo   Innovacion  Presentacion  Errores  Puntaje  Mejor")
print("-"*55)
for fila in sorted(datos_tabla, key=lambda x: x["Puntaje"], reverse=True):
    print(f"{fila['Equipo']:<8} {fila['Innovacion']:^10} {fila['Presentacion']:^13} "
          f"{fila['Errores']:^7} {fila['Puntaje']:^8} {fila['Mejor equipo']:^5}")

from SRC.Funciones import puntos
# Ronda 3
ronda_3 = [{
'EquipoA': {'innovacion': 3, 'presentacion': 2, 'errores': False},
'EquipoB': {'innovacion': 1, 'presentacion': 1, 'errores': True},
'EquipoC': {'innovacion': 2, 'presentacion': 0, 'errores': False},
'EquipoD': {'innovacion': 1, 'presentacion': 3, 'errores': True},
'EquipoE': {'innovacion': 2, 'presentacion': 2, 'errores': False}}

# Accedemos al diccionario dentro de la lista
equipos = ronda_3[0]


# Calculamos los puntajes y creamos la tabla    
datos_tabla = [] #se crea una lista
for nombre, datos in equipos.items():
    puntaje, innovacion, presentacion, errores = puntos(datos)
    datos_tabla.append({
        "Equipo": nombre,
        "Innovacion": innovacion,
        "Presentacion": presentacion,
        "Errores": errores,
        "Puntaje": puntaje
    })



# Determinamos el puntaje máximo
max_puntaje = max(p["Puntaje"] for p in datos_tabla)

# Determinamos los ganadores
ganadores = list(map(
    lambda p: p["Equipo"],
    filter(lambda p: p["Puntaje"] == max_puntaje, datos_tabla)
))

print(f"\nEl mejor equipo de la ronda: {ganadores} con ({max_puntaje} puntos)\n")

# Agregamos la columna "Mejor equipo"
for p in datos_tabla:
    p["Mejor equipo"] = 1 if p["Puntaje"] == max_puntaje else 0

# Imprimimos 
print("Equipo   Innovacion  Presentacion  Errores  Puntaje  Mejor")
print("-"*55)
for fila in sorted(datos_tabla, key=lambda x: x["Puntaje"], reverse=True):
    print(f"{fila['Equipo']:<8} {fila['Innovacion']:^10} {fila['Presentacion']:^13} "
          f"{fila['Errores']:^7} {fila['Puntaje']:^8} {fila['Mejor equipo']:^5}")


from SRC.Funciones import puntos
# Ronda 4
ronda_4 = [

ronda_4 = [{
'EquipoA': {'innovacion': 1, 'presentacion': 3, 'errores': True},
'EquipoB': {'innovacion': 2, 'presentacion': 2, 'errores': False},
'EquipoC': {'innovacion': 3, 'presentacion': 1, 'errores': False},
'EquipoD': {'innovacion': 0, 'presentacion': 2, 'errores': True},
'EquipoE': {'innovacion': 2, 'presentacion': 0, 'errores': False}
}
]


# Accedemos al diccionario dentro de la lista
equipos = ronda_4[0]


# Calculamos los puntajes y creamos la tabla    
datos_tabla = [] #se crea una lista
for nombre, datos in equipos.items():
    puntaje, innovacion, presentacion, errores = puntos(datos)
    datos_tabla.append({
        "Equipo": nombre,
        "Innovacion": innovacion,
        "Presentacion": presentacion,
        "Errores": errores,
        "Puntaje": puntaje
    })



# Determinamos el puntaje máximo
max_puntaje = max(p["Puntaje"] for p in datos_tabla)

# Determinamos los ganadores
ganadores = list(map(
    lambda p: p["Equipo"],
    filter(lambda p: p["Puntaje"] == max_puntaje, datos_tabla)
))

print(f"\nEl mejor equipo de la ronda: {ganadores} con ({max_puntaje} puntos)\n")

# Agregamos la columna "Mejor equipo"
for p in datos_tabla:
    p["Mejor equipo"] = 1 if p["Puntaje"] == max_puntaje else 0

# Imprimimos 
print("Equipo   Innovacion  Presentacion  Errores  Puntaje  Mejor")
print("-"*55)
for fila in sorted(datos_tabla, key=lambda x: x["Puntaje"], reverse=True):
    print(f"{fila['Equipo']:<8} {fila['Innovacion']:^10} {fila['Presentacion']:^13} "
          f"{fila['Errores']:^7} {fila['Puntaje']:^8} {fila['Mejor equipo']:^5}")

from SRC.Funciones import puntos
# Ronda 5
ronda_5 = [

ronda_5 = [{
'EquipoA': {'innovacion': 2, 'presentacion': 2, 'errores': False},
'EquipoB': {'innovacion': 1, 'presentacion': 3, 'errores': True},
'EquipoC': {'innovacion': 0, 'presentacion': 2, 'errores': False},
'EquipoD': {'innovacion': 3, 'presentacion': 1, 'errores': False},
'EquipoE': {'innovacion': 2, 'presentacion': 3, 'errores': True}
}]

# Accedemos al diccionario dentro de la lista
equipos = ronda_5[0]


# Calculamos los puntajes y creamos la tabla    
datos_tabla = [] #se crea una lista
for nombre, datos in equipos.items():
    puntaje, innovacion, presentacion, errores = puntos(datos)
    datos_tabla.append({
        "Equipo": nombre,
        "Innovacion": innovacion,
        "Presentacion": presentacion,
        "Errores": errores,
        "Puntaje": puntaje
    })



# Determinamos el puntaje máximo
max_puntaje = max(p["Puntaje"] for p in datos_tabla)

# Determinamos los ganadores
ganadores = list(map(
    lambda p: p["Equipo"],
    filter(lambda p: p["Puntaje"] == max_puntaje, datos_tabla)
))

print(f"\nEl mejor equipo de la ronda: {ganadores} con ({max_puntaje} puntos)\n")

# Agregamos la columna "Mejor equipo"
for p in datos_tabla:
    p["Mejor equipo"] = 1 if p["Puntaje"] == max_puntaje else 0

# Imprimimos 
print("Equipo   Innovacion  Presentacion  Errores  Puntaje  Mejor")
print("-"*55)
for fila in sorted(datos_tabla, key=lambda x: x["Puntaje"], reverse=True):
    print(f"{fila['Equipo']:<8} {fila['Innovacion']:^10} {fila['Presentacion']:^13} "
          f"{fila['Errores']:^7} {fila['Puntaje']:^8} {fila['Mejor equipo']:^5}")



from SRC.Funciones import puntos
import pandas as pd


evaluaciones = [
 # Ronda 1
 {
 'EquipoA': {'innovacion': 2, 'presentacion': 1, 'errores': True},
 'EquipoB': {'innovacion': 1, 'presentacion': 0, 'errores': False},
 'EquipoC': {'innovacion': 1, 'presentacion': 2, 'errores': True},
 'EquipoD': {'innovacion': 0, 'presentacion': 1, 'errores': False},
 'EquipoE': {'innovacion': 1, 'presentacion': 1, 'errores': False}
 },
 # Ronda 2
 {
 'EquipoA': {'innovacion': 0, 'presentacion': 2, 'errores': False},
 'EquipoB': {'innovacion': 2, 'presentacion': 0, 'errores': True},
 'EquipoC': {'innovacion': 1, 'presentacion': 1, 'errores': False},
 'EquipoD': {'innovacion': 2, 'presentacion': 1, 'errores': True},
 'EquipoE': {'innovacion': 0, 'presentacion': 1, 'errores': False}
 },
 # Ronda 3
 {
 'EquipoA': {'innovacion': 3, 'presentacion': 2, 'errores': False},
 'EquipoB': {'innovacion': 1, 'presentacion': 1, 'errores': True},
 'EquipoC': {'innovacion': 2, 'presentacion': 0, 'errores': False},
 'EquipoD': {'innovacion': 1, 'presentacion': 3, 'errores': True},
 'EquipoE': {'innovacion': 2, 'presentacion': 2, 'errores': False}
 },
 # Ronda 4
 {
 'EquipoA': {'innovacion': 1, 'presentacion': 3, 'errores': True},
 'EquipoB': {'innovacion': 2, 'presentacion': 2, 'errores': False},
 'EquipoC': {'innovacion': 3, 'presentacion': 1, 'errores': False},
 'EquipoD': {'innovacion': 0, 'presentacion': 2, 'errores': True},
 'EquipoE': {'innovacion': 2, 'presentacion': 0, 'errores': False}
 },
 # Ronda 5
 {
 'EquipoA': {'innovacion': 2, 'presentacion': 2, 'errores': False},
 'EquipoB': {'innovacion': 1, 'presentacion': 3, 'errores': True},
 'EquipoC': {'innovacion': 0, 'presentacion': 2, 'errores': False},
 'EquipoD': {'innovacion': 3, 'presentacion': 1, 'errores': False},
 'EquipoE': {'innovacion': 2, 'presentacion': 3, 'errores': True}
 }
]


totales_acumulados = {}
puntos_ronda_ganada = {}  # para contar las veces que cada equipo ganó




for ronda in evaluaciones:
    datos_tabla = []  # Creamos la tabla de la ronda UNA VEZ por ronda
    
    for equipo, datos in ronda.items():
        # Calculamos los puntajes con la función puntos
        puntaje, innovacion, presentacion, errores = puntos(datos)

        # Inicializamos acumulados si no existen
        if equipo not in totales_acumulados:
            totales_acumulados[equipo] = {
                "Innovacion": 0,
                "Presentacion": 0,
                "Errores": 0,
                "Puntaje": 0
            }
        if equipo not in puntos_ronda_ganada:
            puntos_ronda_ganada[equipo] = 0

        # Sumamos al total acumulado
        totales_acumulados[equipo]["Innovacion"] += innovacion
        totales_acumulados[equipo]["Presentacion"] += presentacion
        totales_acumulados[equipo]["Errores"] += errores
        totales_acumulados[equipo]["Puntaje"] += puntaje

        # Guardamos los datos en la tabla de la ronda
        datos_tabla.append({
            "Equipo": equipo,
            "Innovacion": innovacion,
            "Presentacion": presentacion,
            "Errores": errores,
            "Puntaje": puntaje
        })

    # Determinamos el puntaje máximo de la ronda
    max_puntaje = max(p["Puntaje"] for p in datos_tabla)
    
    # Determinamos los ganadores de la ronda
    ganadores = [p["Equipo"] for p in datos_tabla if p["Puntaje"] == max_puntaje]
    print("los equipos que ganaron son :",  ganadores  )


    
    # Sumamos 1 punto a cada ganador de la ronda
    for g in ganadores:
        puntos_ronda_ganada[g] += 1

# Convertimos a lista
datos_totales = [
    {"Equipo": eq, **val, "Rondas Ganadas": puntos_ronda_ganada.get(eq, 0)}
    for eq, val in totales_acumulados.items()
]

# Ordenamos por Puntaje (descendente)
datos_ordenados = sorted(datos_totales, key=lambda x: x["Puntaje"], reverse=True)

# Imprimimos la tabla ordenada
print("\nRESULTADO FINAL")
print("Pos  Equipo   Innovacion  Presentacion  Errores  Puntaje  RondasGanadas")
print("-"*75)
for i, fila in enumerate(datos_ordenados, start=1):
    print(f"{i:<3} {fila['Equipo']:<8} {fila['Innovacion']:^10} {fila['Presentacion']:^13} "
          f"{fila['Errores']:^7} {fila['Puntaje']:^8} {fila['Rondas Ganadas']:^13}")